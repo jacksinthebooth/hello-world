{
  "nbformat": 4,
  "nbformat_minor": 0,
  "metadata": {
    "colab": {
      "name": "df_manipulating",
      "provenance": [],
      "authorship_tag": "ABX9TyM01w/J/uAP3R6hnwEePXGS",
      "include_colab_link": true
    },
    "kernelspec": {
      "name": "python3",
      "display_name": "Python 3"
    }
  },
  "cells": [
    {
      "cell_type": "markdown",
      "metadata": {
        "id": "view-in-github",
        "colab_type": "text"
      },
      "source": [
        "<a href=\"https://colab.research.google.com/github/tastiz/hello-world/blob/master/df_manipulating.ipynb\" target=\"_parent\"><img src=\"https://colab.research.google.com/assets/colab-badge.svg\" alt=\"Open In Colab\"/></a>"
      ]
    },
    {
      "cell_type": "code",
      "metadata": {
        "id": "DJTEYY7BQ7jL",
        "colab_type": "code",
        "colab": {
          "base_uri": "https://localhost:8080/",
          "height": 408
        },
        "outputId": "103d7004-c08d-4f69-809c-d630685fdff0"
      },
      "source": [
        "from sqlalchemy import create_engine\n",
        "\n",
        "postgres_user = 'dabc_student'\n",
        "postgres_pw = '7*.8G9QH21'\n",
        "postgres_host = '142.93.121.174'\n",
        "postgres_port = '5432'\n",
        "postgres_db = 'baseball'\n",
        "\n",
        "engine = create_engine('postgresql://{}:{}@{}:{}/{}'.format(\n",
        "    postgres_user, postgres_pw, postgres_host, postgres_port, postgres_db))\n",
        "\n",
        "import pandas as pd\n",
        "\n",
        "sql = 'SELECT p.playerid, birthyear, birthcountry, deathyear, namefirst, namelast, weight, height, bats, throws, yearid, teamid, lgid, salary FROM people p join salaries s on p.playerid = s.playerid'\n",
        "\n",
        "players_df = pd.read_sql_query(sql, con=engine)\n",
        "\n",
        "engine.dispose()\n",
        "\n",
        "players_df.head(2)\n",
        "\n",
        "#no parantheses\n",
        "players_df.shape\n",
        "\n",
        "players_df.info()\n",
        "\n",
        "players_df.describe()\n",
        "\n",
        "#no parantheses just like .shape function\n",
        "players_df.columns\n"
      ],
      "execution_count": 9,
      "outputs": [
        {
          "output_type": "stream",
          "text": [
            "<class 'pandas.core.frame.DataFrame'>\n",
            "RangeIndex: 26428 entries, 0 to 26427\n",
            "Data columns (total 14 columns):\n",
            "playerid        26428 non-null object\n",
            "birthyear       26428 non-null int64\n",
            "birthcountry    26428 non-null object\n",
            "deathyear       492 non-null float64\n",
            "namefirst       26428 non-null object\n",
            "namelast        26428 non-null object\n",
            "weight          26428 non-null int64\n",
            "height          26428 non-null int64\n",
            "bats            26428 non-null object\n",
            "throws          26428 non-null object\n",
            "yearid          26428 non-null int64\n",
            "teamid          26428 non-null object\n",
            "lgid            26428 non-null object\n",
            "salary          26428 non-null int64\n",
            "dtypes: float64(1), int64(5), object(8)\n",
            "memory usage: 2.8+ MB\n"
          ],
          "name": "stdout"
        },
        {
          "output_type": "execute_result",
          "data": {
            "text/plain": [
              "Index(['playerid', 'birthyear', 'birthcountry', 'deathyear', 'namefirst',\n",
              "       'namelast', 'weight', 'height', 'bats', 'throws', 'yearid', 'teamid',\n",
              "       'lgid', 'salary'],\n",
              "      dtype='object')"
            ]
          },
          "metadata": {
            "tags": []
          },
          "execution_count": 9
        }
      ]
    },
    {
      "cell_type": "markdown",
      "metadata": {
        "id": "_S_ibxkFRbxb",
        "colab_type": "text"
      },
      "source": [
        "SELECT p.playerid, birthyear, birthcountry, deathyear, namefirst, namelast, weight, height, bats, throws, yearid, teamid, lgid, salary \n",
        "FROM people p \n",
        "join salaries s on p.playerid = s.playerid'\n",
        "\n"
      ]
    }
  ]
}