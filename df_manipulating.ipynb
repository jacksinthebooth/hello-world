{
  "nbformat": 4,
  "nbformat_minor": 0,
  "metadata": {
    "colab": {
      "name": "df_manipulating",
      "provenance": [],
      "authorship_tag": "ABX9TyOehypQ4CqohlIOb3verbsd",
      "include_colab_link": true
    },
    "kernelspec": {
      "name": "python3",
      "display_name": "Python 3"
    }
  },
  "cells": [
    {
      "cell_type": "markdown",
      "metadata": {
        "id": "view-in-github",
        "colab_type": "text"
      },
      "source": [
        "<a href=\"https://colab.research.google.com/github/tastiz/hello-world/blob/master/df_manipulating.ipynb\" target=\"_parent\"><img src=\"https://colab.research.google.com/assets/colab-badge.svg\" alt=\"Open In Colab\"/></a>"
      ]
    },
    {
      "cell_type": "code",
      "metadata": {
        "id": "DJTEYY7BQ7jL",
        "colab_type": "code",
        "colab": {
          "base_uri": "https://localhost:8080/",
          "height": 80
        },
        "outputId": "28964e96-2ee5-4ab1-fd3a-dedda80408ba"
      },
      "source": [
        "from sqlalchemy import create_engine\n",
        "\n",
        "postgres_user = 'dabc_student'\n",
        "postgres_pw = '7*.8G9QH21'\n",
        "postgres_host = '142.93.121.174'\n",
        "postgres_port = '5432'\n",
        "postgres_db = 'baseball'\n",
        "\n",
        "engine = create_engine('postgresql://{}:{}@{}:{}/{}'.format(\n",
        "    postgres_user, postgres_pw, postgres_host, postgres_port, postgres_db))\n",
        "\n",
        "import pandas as pd\n",
        "\n",
        "sql = 'SELECT p.playerid, birthyear, birthcountry, deathyear, namefirst, namelast, weight, height, bats, throws, yearid, teamid, lgid, salary FROM people p join salaries s on p.playerid = s.playerid'\n",
        "\n",
        "players_df = pd.read_sql_query(sql, con=engine)\n",
        "\n",
        "#stops the query\n",
        "engine.dispose()\n",
        "\n",
        "#returns first two rows of the data set\n",
        "#players_df.head(2)\n",
        "\n",
        "#no parantheses\n",
        "#players_df.shape\n",
        "\n",
        "#returns information of each colmuns data type\n",
        "#players_df.info()\n",
        "\n",
        "#reveals the min, max, mean, and std deviation as well as count for data\n",
        "#players_df.describe()\n",
        "\n",
        "#no parantheses just like .shape function\n",
        "#players_df.columns\n",
        "\n",
        "#creates a new column based on information for other columns\n",
        "players_df = players_df.assign(bmi = (703 * players_df.weight) / (players_df.height**2))\n",
        "players_df.head()\n",
        "\n",
        "#adds a new column and fills accordingly\n",
        "players_df['Type of Guy'] = 'Big Guy'\n",
        "players_df.head(2)\n",
        "\n",
        "players_df_changed = players_df.drop(['Type of Guy'], axis=1)\n",
        "\n",
        "#print('The columns of the new DataFrame')\n",
        "#print(players_df_changed.columns)\n",
        "\n",
        "#print('The columns of the original DataFrame')\n",
        "#print(players_df.columns)\n",
        "\n",
        "# Alternatively, modify the DataFrame inplace without making a new dataset\n",
        "players_df.drop(['Type of Guy'], axis=1, inplace=True)\n",
        "#print('The columns of the DataFrame after deleting inplace')\n",
        "#print(players_df.columns)\n",
        "\n",
        "#returns row 1 as an array\n",
        "players_df.iloc[1]\n",
        "#returns row 1 indexed\n",
        "players_df.iloc[[1]]\n"
      ],
      "execution_count": 22,
      "outputs": [
        {
          "output_type": "execute_result",
          "data": {
            "text/html": [
              "<div>\n",
              "<style scoped>\n",
              "    .dataframe tbody tr th:only-of-type {\n",
              "        vertical-align: middle;\n",
              "    }\n",
              "\n",
              "    .dataframe tbody tr th {\n",
              "        vertical-align: top;\n",
              "    }\n",
              "\n",
              "    .dataframe thead th {\n",
              "        text-align: right;\n",
              "    }\n",
              "</style>\n",
              "<table border=\"1\" class=\"dataframe\">\n",
              "  <thead>\n",
              "    <tr style=\"text-align: right;\">\n",
              "      <th></th>\n",
              "      <th>playerid</th>\n",
              "      <th>birthyear</th>\n",
              "      <th>birthcountry</th>\n",
              "      <th>deathyear</th>\n",
              "      <th>namefirst</th>\n",
              "      <th>namelast</th>\n",
              "      <th>weight</th>\n",
              "      <th>height</th>\n",
              "      <th>bats</th>\n",
              "      <th>throws</th>\n",
              "      <th>yearid</th>\n",
              "      <th>teamid</th>\n",
              "      <th>lgid</th>\n",
              "      <th>salary</th>\n",
              "      <th>bmi</th>\n",
              "    </tr>\n",
              "  </thead>\n",
              "  <tbody>\n",
              "    <tr>\n",
              "      <th>1</th>\n",
              "      <td>bedrost01</td>\n",
              "      <td>1957</td>\n",
              "      <td>USA</td>\n",
              "      <td>NaN</td>\n",
              "      <td>Steve</td>\n",
              "      <td>Bedrosian</td>\n",
              "      <td>200</td>\n",
              "      <td>75</td>\n",
              "      <td>R</td>\n",
              "      <td>R</td>\n",
              "      <td>1985</td>\n",
              "      <td>ATL</td>\n",
              "      <td>NL</td>\n",
              "      <td>550000</td>\n",
              "      <td>24.995556</td>\n",
              "    </tr>\n",
              "  </tbody>\n",
              "</table>\n",
              "</div>"
            ],
            "text/plain": [
              "    playerid  birthyear birthcountry  deathyear  ... teamid lgid  salary        bmi\n",
              "1  bedrost01       1957          USA        NaN  ...    ATL   NL  550000  24.995556\n",
              "\n",
              "[1 rows x 15 columns]"
            ]
          },
          "metadata": {
            "tags": []
          },
          "execution_count": 22
        }
      ]
    },
    {
      "cell_type": "markdown",
      "metadata": {
        "id": "_S_ibxkFRbxb",
        "colab_type": "text"
      },
      "source": [
        "SELECT p.playerid, birthyear, birthcountry, deathyear, namefirst, namelast, weight, height, bats, throws, yearid, teamid, lgid, salary \n",
        "FROM people p \n",
        "join salaries s on p.playerid = s.playerid'\n",
        "\n"
      ]
    }
  ]
}