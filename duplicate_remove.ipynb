{
  "nbformat": 4,
  "nbformat_minor": 0,
  "metadata": {
    "colab": {
      "name": "duplicate_remove",
      "provenance": [],
      "authorship_tag": "ABX9TyMjvfJRKSqXxItFpL2uTRuN",
      "include_colab_link": true
    },
    "kernelspec": {
      "name": "python3",
      "display_name": "Python 3"
    }
  },
  "cells": [
    {
      "cell_type": "markdown",
      "metadata": {
        "id": "view-in-github",
        "colab_type": "text"
      },
      "source": [
        "<a href=\"https://colab.research.google.com/github/tastiz/hello-world/blob/master/duplicate_remove.ipynb\" target=\"_parent\"><img src=\"https://colab.research.google.com/assets/colab-badge.svg\" alt=\"Open In Colab\"/></a>"
      ]
    },
    {
      "cell_type": "code",
      "metadata": {
        "id": "mPJPa4XR60OQ",
        "colab_type": "code",
        "colab": {
          "base_uri": "https://localhost:8080/",
          "height": 51
        },
        "outputId": "3a0c9a19-7ea5-4fb7-a569-c762243b0264"
      },
      "source": [
        "\n",
        "\n",
        "dumb_data = [ 'a', 'b','b','c','d','d','e']\n",
        "\n",
        "#creates a dictionary with the list as the keys\n",
        "#keys in dictionaries cannot have duplicates so \n",
        "#automatic removal of dupilactes\n",
        "data = list(dict.fromkeys(dumb_data))\n",
        "\n",
        "print(dumb_data)\n",
        "print(data)\n"
      ],
      "execution_count": 1,
      "outputs": [
        {
          "output_type": "stream",
          "text": [
            "['a', 'b', 'b', 'c', 'd', 'd', 'e']\n",
            "['a', 'b', 'c', 'd', 'e']\n"
          ],
          "name": "stdout"
        }
      ]
    }
  ]
}