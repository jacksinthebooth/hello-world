{
  "nbformat": 4,
  "nbformat_minor": 0,
  "metadata": {
    "colab": {
      "name": "duplicate_remove",
      "provenance": [],
      "authorship_tag": "ABX9TyONQmN/xfDWnvypUvYpPCE8",
      "include_colab_link": true
    },
    "kernelspec": {
      "name": "python3",
      "display_name": "Python 3"
    }
  },
  "cells": [
    {
      "cell_type": "markdown",
      "metadata": {
        "id": "view-in-github",
        "colab_type": "text"
      },
      "source": [
        "<a href=\"https://colab.research.google.com/github/tastiz/hello-world/blob/master/duplicate_remove.ipynb\" target=\"_parent\"><img src=\"https://colab.research.google.com/assets/colab-badge.svg\" alt=\"Open In Colab\"/></a>"
      ]
    },
    {
      "cell_type": "code",
      "metadata": {
        "id": "mPJPa4XR60OQ",
        "colab_type": "code",
        "colab": {
          "base_uri": "https://localhost:8080/",
          "height": 51
        },
        "outputId": "e03d4a3a-0ab7-4572-b81c-1d41bf9713b4"
      },
      "source": [
        "\n",
        "\n",
        "dumb_data = [ 'a', 'b','b','c','d','d','e']\n",
        "#dict.from keys:\n",
        "#creates a dictionary with the list as the keys\n",
        "#keys in dictionaries cannot have duplicates so \n",
        "#automatic removal of dupilactes\n",
        "#list()\n",
        "#creates a list, in this case changing from a dictionary to a list\n",
        "data = list(dict.fromkeys(dumb_data))\n",
        "\n",
        "print(dumb_data)\n",
        "print(data)\n"
      ],
      "execution_count": 2,
      "outputs": [
        {
          "output_type": "stream",
          "text": [
            "['a', 'b', 'b', 'c', 'd', 'd', 'e']\n",
            "{'a': None, 'b': None, 'c': None, 'd': None, 'e': None}\n"
          ],
          "name": "stdout"
        }
      ]
    }
  ]
}