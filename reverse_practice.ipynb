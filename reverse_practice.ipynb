{
  "nbformat": 4,
  "nbformat_minor": 0,
  "metadata": {
    "colab": {
      "name": "reverse_practice",
      "provenance": [],
      "authorship_tag": "ABX9TyPnriId+g6cUt3HXqgzVTwE",
      "include_colab_link": true
    },
    "kernelspec": {
      "name": "python3",
      "display_name": "Python 3"
    }
  },
  "cells": [
    {
      "cell_type": "markdown",
      "metadata": {
        "id": "view-in-github",
        "colab_type": "text"
      },
      "source": [
        "<a href=\"https://colab.research.google.com/github/tastiz/hello-world/blob/master/reverse_practice.ipynb\" target=\"_parent\"><img src=\"https://colab.research.google.com/assets/colab-badge.svg\" alt=\"Open In Colab\"/></a>"
      ]
    },
    {
      "cell_type": "code",
      "metadata": {
        "id": "hKNSITJf3q1d",
        "colab_type": "code",
        "colab": {
          "base_uri": "https://localhost:8080/",
          "height": 34
        },
        "outputId": "26e9907e-e11f-4326-ab93-b1eb2377f605"
      },
      "source": [
        "#reverses the string\n",
        "string = \"hello world\"[::-1]\n",
        "print(string)\n",
        "\n",
        "\n"
      ],
      "execution_count": 5,
      "outputs": [
        {
          "output_type": "stream",
          "text": [
            "dlro\n"
          ],
          "name": "stdout"
        }
      ]
    },
    {
      "cell_type": "code",
      "metadata": {
        "id": "9jg2w8Aq4XKw",
        "colab_type": "code",
        "colab": {
          "base_uri": "https://localhost:8080/",
          "height": 51
        },
        "outputId": "3de8fd62-a917-4bb0-e212-5e000c832661"
      },
      "source": [
        "def function_reverse(x):\n",
        "  print(x[::-1])\n",
        " \n",
        "function_reverse('RaceCar')\n",
        "\n",
        "def other_function_reverse(x):\n",
        "  return x[::-1]\n",
        "\n",
        "the_string = other_function_reverse('Wow I hope this works.')\n",
        "\n",
        "print(the_string)\n"
      ],
      "execution_count": 8,
      "outputs": [
        {
          "output_type": "stream",
          "text": [
            "raCecaR\n",
            ".skrow siht epoh I woW\n"
          ],
          "name": "stdout"
        }
      ]
    },
    {
      "cell_type": "code",
      "metadata": {
        "id": "mMPVqWCf5FJd",
        "colab_type": "code",
        "colab": {}
      },
      "source": [
        ""
      ],
      "execution_count": 0,
      "outputs": []
    }
  ]
}