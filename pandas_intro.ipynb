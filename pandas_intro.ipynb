{
  "nbformat": 4,
  "nbformat_minor": 0,
  "metadata": {
    "colab": {
      "name": "pandas_intro",
      "provenance": [],
      "authorship_tag": "ABX9TyP5T5v7A9a8rKVfELh3ho+Z",
      "include_colab_link": true
    },
    "kernelspec": {
      "name": "python3",
      "display_name": "Python 3"
    }
  },
  "cells": [
    {
      "cell_type": "markdown",
      "metadata": {
        "id": "view-in-github",
        "colab_type": "text"
      },
      "source": [
        "<a href=\"https://colab.research.google.com/github/tastiz/hello-world/blob/master/pandas_intro.ipynb\" target=\"_parent\"><img src=\"https://colab.research.google.com/assets/colab-badge.svg\" alt=\"Open In Colab\"/></a>"
      ]
    },
    {
      "cell_type": "code",
      "metadata": {
        "id": "AVH-KsaDlm9A",
        "colab_type": "code",
        "colab": {}
      },
      "source": [
        "import pandas as pd\n",
        "import numpy as np\n",
        "\n",
        "ages = pd.Series(np.array([3, 4, 67, 89, 67,24,35]))\n",
        "#print(ages)\n",
        "\n",
        "age_array = np.array([50, 51, 39, 38, 124, 2013, 45, 1768, 98])\n",
        "names_list = ['Sam', 'Frodo', 'Merry', 'Bouncy', 'Spike', 'Fluffer', 'Boomer', 'Hero', 'Goober']\n",
        "\n",
        "goober_gang = pd.Series(age_array, index=names_list)\n",
        "\n",
        "#print(goober_gang)\n",
        "\n",
        "teams = {\n",
        "    'Ducks': 100,\n",
        "    'Cardinals': 3,\n",
        "    'Huskies': 45,\n",
        "    'Beavers': 78,\n",
        "    'Bears': 68\n",
        "}\n",
        "\n",
        "standings = pd.Series(teams)\n",
        "\n",
        "#Gives an overall analysis including count, mean, std, min and max\n",
        "#print(standings.describe())\n",
        "\n",
        "\n"
      ],
      "execution_count": 0,
      "outputs": []
    },
    {
      "cell_type": "code",
      "metadata": {
        "id": "WLZYM8aRn-ks",
        "colab_type": "code",
        "colab": {}
      },
      "source": [
        "import pandas as pd\n",
        "df = pd.read_csv('https://tf-assets-prod.s3.amazonaws.com/tf-curric/data-analytics-bootcamp/songs.csv')\n",
        "\n",
        "#overal info about a csv and its genearl schema\n",
        "#df.info\n",
        "#returns column names\n",
        "#df.columns\n",
        "#returns datatypes found in each colmn\n",
        "#df.dtypes\n",
        "#returns the dimensions of the table\n",
        "#df.shape\n",
        "#returns the first five rows or enter the amount of rows wished to be returned\n",
        "#df.head\n",
        "#returns the last five rows or enter the amount of rows wished to be returned\n",
        "#df.tail\n"
      ],
      "execution_count": 0,
      "outputs": []
    },
    {
      "cell_type": "code",
      "metadata": {
        "id": "__yfAsCBqW6S",
        "colab_type": "code",
        "colab": {}
      },
      "source": [
        "def printDataFrame(df):\n",
        "  print('The shape of this DataFrame is {}'.format(df.shape))\n",
        "  print('The columns in this DataFrame are {}'.format(df.columns))\n",
        "  print('The info:')\n",
        "  print(df.info())\n",
        "\n",
        "printDataFrame(df)\n",
        "print(df.head(2))"
      ],
      "execution_count": 0,
      "outputs": []
    },
    {
      "cell_type": "code",
      "metadata": {
        "id": "NtPaYmwYq804",
        "colab_type": "code",
        "colab": {}
      },
      "source": [
        "# Define a list of column labels\n",
        "columns = ['club', 'MP', 'W', 'D', 'L', 'GF', 'GA', 'GD', 'Pts']\n",
        "\n",
        "# Define rows\n",
        "rows = [\n",
        "    ['Man. City', 29, 23, 2, 4, 76, 20, 56, 71],\n",
        "    ['Liverpool', 29, 21, 7, 1, 64, 15, 49, 70],\n",
        "    ['Tottenham', 29, 20, 1, 8, 56, 30, 26, 61],\n",
        "    ['Man U', 29, 17, 7, 5, 58, 38, 20, 58],\n",
        "    ['Arsenal', 29, 17, 6, 6, 61, 39, 22, 57]\n",
        "]\n",
        "\n",
        "league_df = pd.DataFrame(data=rows, columns=columns)\n",
        "\n",
        "printDataFrame(league_df)\n",
        "league_df.head(2)"
      ],
      "execution_count": 0,
      "outputs": []
    },
    {
      "cell_type": "code",
      "metadata": {
        "id": "u0nCoWP1rKEu",
        "colab_type": "code",
        "colab": {}
      },
      "source": [
        "# creates the table in a single variable as compared the above\n",
        "league_dict = {\n",
        "    'club' : ['Man. City', 'Liverpool', 'Tottenham', 'Man U', 'Arsenal'],\n",
        "    'MP' : [29, 29, 29, 29, 29],\n",
        "    'W' : [23, 21, 20, 17, 17],\n",
        "    'D' : [2, 7, 1, 7, 6],\n",
        "    'L' : [4, 1, 8, 5, 6],\n",
        "    'GF' : [76, 64, 56, 38, 39],\n",
        "    'GA' : [20, 15, 30, 20, 39],\n",
        "    'GD' : [56, 49, 26, 20, 22],\n",
        "    'Pts' : [71, 70, 61, 58, 57]\n",
        "}\n",
        "\n",
        "league_df = pd.DataFrame(league_dict)\n",
        "\n",
        "printDataFrame(league_df)\n",
        "league_df.head(2)"
      ],
      "execution_count": 0,
      "outputs": []
    }
  ]
}