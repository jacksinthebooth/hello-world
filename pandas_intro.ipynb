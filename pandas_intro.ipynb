{
  "nbformat": 4,
  "nbformat_minor": 0,
  "metadata": {
    "colab": {
      "name": "pandas_intro",
      "provenance": [],
      "authorship_tag": "ABX9TyOLBPt3Lfz1pOd1A4/0+KVe",
      "include_colab_link": true
    },
    "kernelspec": {
      "name": "python3",
      "display_name": "Python 3"
    }
  },
  "cells": [
    {
      "cell_type": "markdown",
      "metadata": {
        "id": "view-in-github",
        "colab_type": "text"
      },
      "source": [
        "<a href=\"https://colab.research.google.com/github/tastiz/hello-world/blob/master/pandas_intro.ipynb\" target=\"_parent\"><img src=\"https://colab.research.google.com/assets/colab-badge.svg\" alt=\"Open In Colab\"/></a>"
      ]
    },
    {
      "cell_type": "code",
      "metadata": {
        "id": "AVH-KsaDlm9A",
        "colab_type": "code",
        "colab": {}
      },
      "source": [
        "import pandas as pd\n",
        "import numpy as np\n",
        "\n",
        "ages = pd.Series(np.array([3, 4, 67, 89, 67,24,35]))\n",
        "#print(ages)\n",
        "\n",
        "age_array = np.array([50, 51, 39, 38, 124, 2013, 45, 1768, 98])\n",
        "names_list = ['Sam', 'Frodo', 'Merry', 'Bouncy', 'Spike', 'Fluffer', 'Boomer', 'Hero', 'Goober']\n",
        "\n",
        "goober_gang = pd.Series(age_array, index=names_list)\n",
        "\n",
        "#print(goober_gang)\n",
        "\n",
        "teams = {\n",
        "    'Ducks': 100,\n",
        "    'Cardinals': 3,\n",
        "    'Huskies': 45,\n",
        "    'Beavers': 78,\n",
        "    'Bears': 68\n",
        "}\n",
        "\n",
        "standings = pd.Series(teams)\n",
        "\n",
        "#Gives an overall analysis including count, mean, std, min and max\n",
        "#print(standings.describe())\n",
        "\n",
        "\n"
      ],
      "execution_count": 0,
      "outputs": []
    },
    {
      "cell_type": "code",
      "metadata": {
        "id": "WLZYM8aRn-ks",
        "colab_type": "code",
        "colab": {
          "base_uri": "https://localhost:8080/",
          "height": 255
        },
        "outputId": "a5a4a223-0cd4-4282-c040-ba9705323a35"
      },
      "source": [
        "import pandas as pd\n",
        "df = pd.read_csv('https://tf-assets-prod.s3.amazonaws.com/tf-curric/data-analytics-bootcamp/songs.csv')\n",
        "\n",
        "#overal info about a csv and its genearl schema\n",
        "#df.info\n",
        "#returns column names\n",
        "#df.columns\n",
        "#returns datatypes found in each colmn\n",
        "#df.dtypes\n",
        "#returns the dimensions of the table\n",
        "#df.shape\n",
        "#returns the first five rows or enter the amount of rows wished to be returned\n",
        "#df.head\n",
        "#returns the last five rows or enter the amount of rows wished to be returned\n",
        "#df.tail\n"
      ],
      "execution_count": 18,
      "outputs": [
        {
          "output_type": "execute_result",
          "data": {
            "text/plain": [
              "<bound method NDFrame.tail of                                        Song Clean ARTIST CLEAN  ... PlayCount  F*G\n",
              "0                                Caught Up in You  .38 Special  ...        82   82\n",
              "1                                    Fantasy Girl  .38 Special  ...         3    0\n",
              "2                                 Hold On Loosely  .38 Special  ...        85   85\n",
              "3                          Rockin' Into the Night  .38 Special  ...        18   18\n",
              "4                               Art For Arts Sake         10cc  ...         1    1\n",
              "...                                           ...          ...  ...       ...  ...\n",
              "2224                      She Loves My Automobile       ZZ Top  ...         1    0\n",
              "2225                            Tube Snake Boogie       ZZ Top  ...        32   32\n",
              "2226                                         Tush       ZZ Top  ...       109  109\n",
              "2227                                   TV Dinners       ZZ Top  ...         1    1\n",
              "2228  WAITIN' FOR THE BUS/JESUS JUST LEFT CHICAGO       ZZ Top  ...         2    2\n",
              "\n",
              "[2229 rows x 8 columns]>"
            ]
          },
          "metadata": {
            "tags": []
          },
          "execution_count": 18
        }
      ]
    }
  ]
}