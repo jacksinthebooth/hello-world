{
  "nbformat": 4,
  "nbformat_minor": 0,
  "metadata": {
    "colab": {
      "name": "pandas_intro",
      "provenance": [],
      "authorship_tag": "ABX9TyP/s39FkrIRi10v/gwe0a0f",
      "include_colab_link": true
    },
    "kernelspec": {
      "name": "python3",
      "display_name": "Python 3"
    }
  },
  "cells": [
    {
      "cell_type": "markdown",
      "metadata": {
        "id": "view-in-github",
        "colab_type": "text"
      },
      "source": [
        "<a href=\"https://colab.research.google.com/github/tastiz/hello-world/blob/master/pandas_intro.ipynb\" target=\"_parent\"><img src=\"https://colab.research.google.com/assets/colab-badge.svg\" alt=\"Open In Colab\"/></a>"
      ]
    },
    {
      "cell_type": "code",
      "metadata": {
        "id": "AVH-KsaDlm9A",
        "colab_type": "code",
        "colab": {}
      },
      "source": [
        "import pandas as pd\n",
        "import numpy as np\n",
        "\n",
        "ages = pd.Series(np.array([3, 4, 67, 89, 67,24,35]))\n",
        "#print(ages)\n",
        "\n",
        "age_array = np.array([50, 51, 39, 38, 124, 2013, 45, 1768, 98])\n",
        "names_list = ['Sam', 'Frodo', 'Merry', 'Bouncy', 'Spike', 'Fluffer', 'Boomer', 'Hero', 'Goober']\n",
        "\n",
        "goober_gang = pd.Series(age_array, index=names_list)\n",
        "\n",
        "#print(goober_gang)\n",
        "\n",
        "teams = {\n",
        "    'Ducks': 100,\n",
        "    'Cardinals': 3,\n",
        "    'Huskies': 45,\n",
        "    'Beavers': 78,\n",
        "    'Bears': 68\n",
        "}\n",
        "\n",
        "standings = pd.Series(teams)\n",
        "\n",
        "#Gives an overall analysis including count, mean, std, min and max\n",
        "#print(standings.describe())\n",
        "\n",
        "\n"
      ],
      "execution_count": 0,
      "outputs": []
    },
    {
      "cell_type": "code",
      "metadata": {
        "id": "WLZYM8aRn-ks",
        "colab_type": "code",
        "colab": {}
      },
      "source": [
        "import pandas as pd\n",
        "df = pd.read_csv('https://tf-assets-prod.s3.amazonaws.com/tf-curric/data-analytics-bootcamp/songs.csv')\n",
        "\n",
        "#overal info about a csv and its genearl schema\n",
        "#df.info\n",
        "#returns column names\n",
        "#df.columns\n",
        "#returns datatypes found in each colmn\n",
        "#df.dtypes\n",
        "#returns the dimensions of the table\n",
        "#df.shape\n",
        "#returns the first five rows or enter the amount of rows wished to be returned\n",
        "#df.head\n",
        "#returns the last five rows or enter the amount of rows wished to be returned\n",
        "#df.tail\n"
      ],
      "execution_count": 0,
      "outputs": []
    },
    {
      "cell_type": "code",
      "metadata": {
        "id": "__yfAsCBqW6S",
        "colab_type": "code",
        "colab": {
          "base_uri": "https://localhost:8080/",
          "height": 425
        },
        "outputId": "50ea9529-1ebd-4e2c-f65f-c1d045065b64"
      },
      "source": [
        "def printDataFrame(df):\n",
        "  print('The shape of this DataFrame is {}'.format(df.shape))\n",
        "  print('The columns in this DataFrame are {}'.format(df.columns))\n",
        "  print('The info:')\n",
        "  print(df.info())\n",
        "\n",
        "printDataFrame(df)\n",
        "print(df.head(2))"
      ],
      "execution_count": 20,
      "outputs": [
        {
          "output_type": "stream",
          "text": [
            "The shape of this DataFrame is (2229, 8)\n",
            "The columns in this DataFrame are Index(['Song Clean', 'ARTIST CLEAN', 'Release Year', 'COMBINED', 'First?',\n",
            "       'Year?', 'PlayCount', 'F*G'],\n",
            "      dtype='object')\n",
            "The info:\n",
            "<class 'pandas.core.frame.DataFrame'>\n",
            "RangeIndex: 2229 entries, 0 to 2228\n",
            "Data columns (total 8 columns):\n",
            "Song Clean      2229 non-null object\n",
            "ARTIST CLEAN    2229 non-null object\n",
            "Release Year    1652 non-null object\n",
            "COMBINED        2229 non-null object\n",
            "First?          2229 non-null int64\n",
            "Year?           2229 non-null int64\n",
            "PlayCount       2229 non-null int64\n",
            "F*G             2229 non-null int64\n",
            "dtypes: int64(4), object(4)\n",
            "memory usage: 139.4+ KB\n",
            "None\n",
            "         Song Clean ARTIST CLEAN Release Year  ... Year?  PlayCount  F*G\n",
            "0  Caught Up in You  .38 Special         1982  ...     1         82   82\n",
            "1      Fantasy Girl  .38 Special          NaN  ...     0          3    0\n",
            "\n",
            "[2 rows x 8 columns]\n"
          ],
          "name": "stdout"
        }
      ]
    }
  ]
}