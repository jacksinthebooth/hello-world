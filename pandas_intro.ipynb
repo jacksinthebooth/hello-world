{
  "nbformat": 4,
  "nbformat_minor": 0,
  "metadata": {
    "colab": {
      "name": "pandas_intro",
      "provenance": [],
      "authorship_tag": "ABX9TyOiHX5ycnit5cYjk1g3qsMW",
      "include_colab_link": true
    },
    "kernelspec": {
      "name": "python3",
      "display_name": "Python 3"
    }
  },
  "cells": [
    {
      "cell_type": "markdown",
      "metadata": {
        "id": "view-in-github",
        "colab_type": "text"
      },
      "source": [
        "<a href=\"https://colab.research.google.com/github/tastiz/hello-world/blob/master/pandas_intro.ipynb\" target=\"_parent\"><img src=\"https://colab.research.google.com/assets/colab-badge.svg\" alt=\"Open In Colab\"/></a>"
      ]
    },
    {
      "cell_type": "code",
      "metadata": {
        "id": "AVH-KsaDlm9A",
        "colab_type": "code",
        "colab": {}
      },
      "source": [
        "import pandas as pd\n",
        "import numpy as np\n",
        "\n",
        "ages = pd.Series(np.array([3, 4, 67, 89, 67,24,35]))\n",
        "#print(ages)\n",
        "\n",
        "age_array = np.array([50, 51, 39, 38, 124, 2013, 45, 1768, 98])\n",
        "names_list = ['Sam', 'Frodo', 'Merry', 'Bouncy', 'Spike', 'Fluffer', 'Boomer', 'Hero', 'Goober']\n",
        "\n",
        "goober_gang = pd.Series(age_array, index=names_list)\n",
        "\n",
        "#print(goober_gang)\n",
        "\n",
        "teams = {\n",
        "    'Ducks': 100,\n",
        "    'Cardinals': 3,\n",
        "    'Huskies': 45,\n",
        "    'Beavers': 78,\n",
        "    'Bears': 68\n",
        "}\n",
        "\n",
        "standings = pd.Series(teams)\n",
        "\n",
        "#Gives an overall analysis including count, mean, std, min and max\n",
        "#print(standings.describe())\n",
        "\n",
        "\n"
      ],
      "execution_count": 0,
      "outputs": []
    },
    {
      "cell_type": "code",
      "metadata": {
        "id": "WLZYM8aRn-ks",
        "colab_type": "code",
        "colab": {
          "base_uri": "https://localhost:8080/",
          "height": 34
        },
        "outputId": "a5c2c3c7-d468-4bf6-827d-b2dc1ac19f48"
      },
      "source": [
        "import pandas as pd\n",
        "df = pd.read_csv('https://tf-assets-prod.s3.amazonaws.com/tf-curric/data-analytics-bootcamp/songs.csv')\n",
        "\n",
        "#overal info about a csv and its genearl schema\n",
        "#df.info\n",
        "#returns column names\n",
        "#df.columns\n",
        "#returns datatypes found in each colmn\n",
        "#df.dtypes\n",
        "#returns the dimensions of the table\n",
        "df.shape"
      ],
      "execution_count": 17,
      "outputs": [
        {
          "output_type": "execute_result",
          "data": {
            "text/plain": [
              "(2229, 8)"
            ]
          },
          "metadata": {
            "tags": []
          },
          "execution_count": 17
        }
      ]
    }
  ]
}