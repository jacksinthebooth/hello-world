{
  "nbformat": 4,
  "nbformat_minor": 0,
  "metadata": {
    "colab": {
      "name": "pandas_module",
      "provenance": [],
      "authorship_tag": "ABX9TyO7clYmb1AOTZmgqKMC7y4h",
      "include_colab_link": true
    },
    "kernelspec": {
      "name": "python3",
      "display_name": "Python 3"
    }
  },
  "cells": [
    {
      "cell_type": "markdown",
      "metadata": {
        "id": "view-in-github",
        "colab_type": "text"
      },
      "source": [
        "<a href=\"https://colab.research.google.com/github/tastiz/hello-world/blob/master/pandas_module.ipynb\" target=\"_parent\"><img src=\"https://colab.research.google.com/assets/colab-badge.svg\" alt=\"Open In Colab\"/></a>"
      ]
    },
    {
      "cell_type": "markdown",
      "metadata": {
        "id": "4PF5bCDLuxh6",
        "colab_type": "text"
      },
      "source": [
        "Finds the baby names of New York, returning schema as well as first five rows"
      ]
    },
    {
      "cell_type": "code",
      "metadata": {
        "id": "KrPUS1pkssyu",
        "colab_type": "code",
        "colab": {}
      },
      "source": [
        "import pandas as pd\n",
        "\n",
        "df = pd.read_csv('https://tf-assets-prod.s3.amazonaws.com/tf-curric/data-analytics-bootcamp/nyc_baby_names.csv')\n",
        "df.info()\n",
        "df.head()"
      ],
      "execution_count": 0,
      "outputs": []
    },
    {
      "cell_type": "markdown",
      "metadata": {
        "id": "3WXHzo11uxLM",
        "colab_type": "text"
      },
      "source": [
        "Takes a list of political tweets in a json file adn returns the schema and first five rows"
      ]
    },
    {
      "cell_type": "code",
      "metadata": {
        "id": "Dd-jCcHltQUq",
        "colab_type": "code",
        "colab": {}
      },
      "source": [
        "tweets_df = pd.read_json('https://tf-assets-prod.s3.amazonaws.com/tf-curric/data-analytics-bootcamp/tweets.json')\n",
        "tweets_df.info()\n",
        "tweets_df.head()"
      ],
      "execution_count": 0,
      "outputs": []
    },
    {
      "cell_type": "markdown",
      "metadata": {
        "id": "3HZQh1jyvLmM",
        "colab_type": "text"
      },
      "source": [
        "Accessed the department of education's database requesting the finance table, returning the schema as well as first 2 rows"
      ]
    },
    {
      "cell_type": "code",
      "metadata": {
        "id": "RINndKIPty1V",
        "colab_type": "code",
        "colab": {}
      },
      "source": [
        "def printDataFrame(df):\n",
        "  print('The shape of this DataFrame is {}'.format(df.shape))\n",
        "  print('The columns in this DataFrame are {}'.format(df.columns))\n",
        "  print('The info:')\n",
        "  print(df.info())\n",
        "\n",
        "from sqlalchemy import create_engine\n",
        "\n",
        "postgres_user = 'dsbc_student'\n",
        "postgres_pw = '7*.8G9QH21'\n",
        "postgres_host = '142.93.121.174'\n",
        "postgres_port = '5432'\n",
        "postgres_db = 'department_of_education'\n",
        "\n",
        "engine = create_engine('postgresql://{}:{}@{}:{}/{}'.format(\n",
        "    postgres_user, postgres_pw, postgres_host, postgres_port, postgres_db))\n",
        "\n",
        "finance_df = pd.read_sql_table('finance', con=engine)\n",
        "\n",
        "engine.dispose()\n",
        "\n",
        "printDataFrame(finance_df)\n",
        "finance_df.head(2)\n",
        "\n"
      ],
      "execution_count": 0,
      "outputs": []
    }
  ]
}