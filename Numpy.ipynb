{
  "nbformat": 4,
  "nbformat_minor": 0,
  "metadata": {
    "colab": {
      "name": "Numpy",
      "provenance": [],
      "authorship_tag": "ABX9TyMkPsR1Rs2KTa2sTVIf8SiT",
      "include_colab_link": true
    },
    "kernelspec": {
      "name": "python3",
      "display_name": "Python 3"
    }
  },
  "cells": [
    {
      "cell_type": "markdown",
      "metadata": {
        "id": "view-in-github",
        "colab_type": "text"
      },
      "source": [
        "<a href=\"https://colab.research.google.com/github/tastiz/hello-world/blob/master/Numpy.ipynb\" target=\"_parent\"><img src=\"https://colab.research.google.com/assets/colab-badge.svg\" alt=\"Open In Colab\"/></a>"
      ]
    },
    {
      "cell_type": "code",
      "metadata": {
        "id": "WBzyaJ7xhsRS",
        "colab_type": "code",
        "colab": {}
      },
      "source": [
        "import numpy as np\n",
        "\n",
        "a = np.array([[2,7,10],[67,90,110]])\n",
        "#print(a)\n",
        "\n",
        "c = np.arange(20)\n",
        "#print(c)\n",
        "\n",
        "d = np.arange(3,93,3)\n",
        "#print(d)\n",
        "\n",
        "e = np.zeros(10)\n",
        "#print(e)\n",
        "\n",
        "f = np.ones((6,7))\n",
        "#print(f)\n",
        "\n",
        "g = np.arange(20)\n",
        "#print(g)\n",
        "\n",
        "g = g.reshape(4,5)\n",
        "#print(g)\n",
        "\n",
        "h = np.arange(35).reshape(5,7)\n",
        "#print(h)\n",
        "\n",
        "# print the number of axes in this array\n",
        "print('There are {} axes in this array.'.format(h.ndim))\n",
        "\n",
        "# print the shape of the array\n",
        "print('This is a {} array'.format(h.shape))\n",
        "\n",
        "# print the size of the array\n",
        "print('This array contains {} elements'.format(h.size))\n",
        "\n",
        "# print the data type of the elements\n",
        "print('This array contains values of type {}'.format(h.dtype))\n"
      ],
      "execution_count": 0,
      "outputs": []
    }
  ]
}