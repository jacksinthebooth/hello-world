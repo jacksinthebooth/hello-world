{
  "nbformat": 4,
  "nbformat_minor": 0,
  "metadata": {
    "colab": {
      "name": "Numpy",
      "provenance": [],
      "authorship_tag": "ABX9TyNxkPZDb+keDIkY6PX3GMsj",
      "include_colab_link": true
    },
    "kernelspec": {
      "name": "python3",
      "display_name": "Python 3"
    }
  },
  "cells": [
    {
      "cell_type": "markdown",
      "metadata": {
        "id": "view-in-github",
        "colab_type": "text"
      },
      "source": [
        "<a href=\"https://colab.research.google.com/github/tastiz/hello-world/blob/master/Numpy.ipynb\" target=\"_parent\"><img src=\"https://colab.research.google.com/assets/colab-badge.svg\" alt=\"Open In Colab\"/></a>"
      ]
    },
    {
      "cell_type": "code",
      "metadata": {
        "id": "WBzyaJ7xhsRS",
        "colab_type": "code",
        "colab": {
          "base_uri": "https://localhost:8080/",
          "height": 85
        },
        "outputId": "0e34b29a-0e77-44bc-ecf6-2c516663ac15"
      },
      "source": [
        "import numpy as np\n",
        "\n",
        "a = np.array([[2,7,10],[67,90,110]])\n",
        "#print(a)\n",
        "\n",
        "c = np.arange(20)\n",
        "#print(c)\n",
        "\n",
        "d = np.arange(3,93,3)\n",
        "#print(d)\n",
        "\n",
        "e = np.zeros(10)\n",
        "#print(e)\n",
        "\n",
        "f = np.ones((6,7))\n",
        "#print(f)\n",
        "\n",
        "g = np.arange(20)\n",
        "#print(g)\n",
        "\n",
        "g = g.reshape(4,5)\n",
        "#print(g)\n",
        "\n",
        "h = np.arange(35).reshape(5,7)\n",
        "#print(h)\n",
        "\n",
        "# print the number of axes in this array\n",
        "print('There are {} axes in this array.'.format(h.ndim))\n",
        "\n",
        "# print the shape of the array\n",
        "print('This is a {} array'.format(h.shape))\n",
        "\n",
        "# print the size of the array\n",
        "print('This array contains {} elements'.format(h.size))\n",
        "\n",
        "# print the data type of the elements\n",
        "print('This array contains values of type {}'.format(h.dtype))\n"
      ],
      "execution_count": 21,
      "outputs": [
        {
          "output_type": "stream",
          "text": [
            "There are 2 axes in this array.\n",
            "This is a (5, 7) array\n",
            "This array contains 35 elements\n",
            "This array contains values of type int64\n"
          ],
          "name": "stdout"
        }
      ]
    },
    {
      "cell_type": "code",
      "metadata": {
        "id": "gRRS5-zlklBh",
        "colab_type": "code",
        "colab": {
          "base_uri": "https://localhost:8080/",
          "height": 136
        },
        "outputId": "59f57874-676d-44ee-ac70-96a89d64d155"
      },
      "source": [
        "cw_coursework = np.random.randint(1,35,20)\n",
        "exam_coursework = np.random.randint(5,48,20)\n",
        "\n",
        "total = cw_coursework + exam_coursework\n",
        "print(cw_coursework)\n",
        "print(exam_coursework)\n",
        "print(total)\n",
        "\n",
        "print('The highest mark in the couse was {}'. format(np.max(total)))\n",
        "print('The lowest mark in the course was {}'.format(np.min(total)))\n",
        "print('The mean mark in the course was {}'.format(np.mean(total)))\n",
        "print('The standard deviation of the marks in the course was {}'.format(np.std(total)))"
      ],
      "execution_count": 28,
      "outputs": [
        {
          "output_type": "stream",
          "text": [
            "[ 4 14 31 16 26 22  8 10 26  1 10 20 34 31 31 11 10 30 12 29]\n",
            "[11 25 11 17 12 28 22 19 41 17  8 40 46  6 47 18 36 11 20 25]\n",
            "[15 39 42 33 38 50 30 29 67 18 18 60 80 37 78 29 46 41 32 54]\n",
            "The highest mark in the couse was 80\n",
            "The lowest mark in the course was 15\n",
            "The mean mark in the course was 41.8\n",
            "The standard deviation of the marks in the course was 18.03773821741518\n"
          ],
          "name": "stdout"
        }
      ]
    }
  ]
}