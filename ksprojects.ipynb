{
  "nbformat": 4,
  "nbformat_minor": 0,
  "metadata": {
    "colab": {
      "name": "ksprojects.ipynb",
      "provenance": [],
      "authorship_tag": "ABX9TyNsTtRS8VKIRg4EOHnJnOIG",
      "include_colab_link": true
    },
    "kernelspec": {
      "name": "python3",
      "display_name": "Python 3"
    }
  },
  "cells": [
    {
      "cell_type": "markdown",
      "metadata": {
        "id": "view-in-github",
        "colab_type": "text"
      },
      "source": [
        "<a href=\"https://colab.research.google.com/github/tastiz/hello-world/blob/master/ksprojects.ipynb\" target=\"_parent\"><img src=\"https://colab.research.google.com/assets/colab-badge.svg\" alt=\"Open In Colab\"/></a>"
      ]
    },
    {
      "cell_type": "code",
      "metadata": {
        "id": "Yl0mYsM-J1Q7",
        "colab_type": "code",
        "outputId": "997d4f55-0582-48ab-b69b-4c347a695790",
        "colab": {
          "base_uri": "https://localhost:8080/",
          "height": 476
        }
      },
      "source": [
        "#Importing the ksprojects table from kickstarterprojects\n",
        "#using pandas to read sql and use table created\n",
        "\n",
        "from sqlalchemy import create_engine\n",
        "\n",
        "postgres_user = 'dabc_student'\n",
        "postgres_pw = '7*.8G9QH21'\n",
        "postgres_host = '142.93.121.174'\n",
        "postgres_port = '5432'\n",
        "postgres_db = 'kickstarterprojects'\n",
        "\n",
        "engine = create_engine('postgresql://{}:{}@{}:{}/{}'.format(\n",
        "    postgres_user, postgres_pw, postgres_host, postgres_port, postgres_db))\n",
        "\n",
        "import pandas as pd\n",
        "\n",
        "sql = 'SELECT * FROM ksprojects '\n",
        "\n",
        "kickstarter_df = pd.read_sql_query(sql, con=engine)\n",
        "\n",
        "#Returns the dimensions of rows and columns in the imported table\n",
        "kickstarter_df.shape\n",
        "\n",
        "#Returns column names and type of data stored within\n",
        "kickstarter_df.info()\n",
        "\n",
        "#Finds any null values found in the table\n",
        "def find_null(kickstarter_df):\n",
        "  null_values = kickstarter_df.columns[kickstarter_df.isnull().any()]\n",
        "  kickstarter_df[null_values].isnull().sum()\n",
        "  \n",
        "print(find_null(kickstarter_df))\n",
        "\n",
        "print(kickstarter_df[kickstarter_df.isnull().any(axis=1)][null_columns].head())\n",
        "\n",
        "#The Average pledged amount was 7900.24 usd\n",
        "sql3 = 'SELECT AVG(usd_pledged) FROM ksprojects WHERE usd_pledged IS NOT NULL'\n",
        "\n",
        "average_pledged = pd.read_sql_query(sql3, con=engine)\n",
        "print(average_pledged)\n",
        "\n",
        "\n",
        "\n",
        "\n"
      ],
      "execution_count": 23,
      "outputs": [
        {
          "output_type": "stream",
          "text": [
            "<class 'pandas.core.frame.DataFrame'>\n",
            "RangeIndex: 65418 entries, 0 to 65417\n",
            "Data columns (total 13 columns):\n",
            "id               65418 non-null int64\n",
            "name             65418 non-null object\n",
            "category         65418 non-null object\n",
            "main_category    65418 non-null object\n",
            "deadline         65418 non-null datetime64[ns]\n",
            "goal             65418 non-null float64\n",
            "launched         65418 non-null datetime64[ns]\n",
            "state            65418 non-null object\n",
            "backers          65418 non-null int64\n",
            "country          65418 non-null object\n",
            "usd_pledged      64673 non-null float64\n",
            "currency         65418 non-null object\n",
            "pledged          65418 non-null float64\n",
            "dtypes: datetime64[ns](2), float64(3), int64(2), object(6)\n",
            "memory usage: 6.5+ MB\n",
            "None\n",
            "       usd_pledged\n",
            "9490           NaN\n",
            "15111          NaN\n",
            "17484          NaN\n",
            "17532          NaN\n",
            "27334          NaN\n",
            "           avg\n",
            "0  7900.242005\n"
          ],
          "name": "stdout"
        }
      ]
    },
    {
      "cell_type": "markdown",
      "metadata": {
        "id": "EBirzK5kKjFS",
        "colab_type": "text"
      },
      "source": [
        "There are 65418 rows and 13 columns in the ksprojects table\n",
        "\n"
      ]
    },
    {
      "cell_type": "markdown",
      "metadata": {
        "id": "cpEa72SuLXQd",
        "colab_type": "text"
      },
      "source": [
        "id        :         int64\n",
        "name       :        object\n",
        "category     :      object\n",
        "main_category :     object\n",
        "deadline       :    datetime64\n",
        "goal            :   float64\n",
        "launched        :   datetime64\n",
        "state           :   object\n",
        "backers         :   int64\n",
        "country         :   object\n",
        "usd_pledged     :  float64\n",
        "currency           object\n",
        "pledged        :    float64"
      ]
    },
    {
      "cell_type": "markdown",
      "metadata": {
        "id": "-2YrcaygVG3X",
        "colab_type": "text"
      },
      "source": [
        "There are  null values in the usd_pledged column in ksprojects table\n"
      ]
    }
  ]
}